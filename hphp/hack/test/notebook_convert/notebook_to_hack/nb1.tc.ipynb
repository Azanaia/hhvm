{
  "cells": [
    {
      "cell_type": "code",
      "execution_count": null,
      "metadata": {
        "collapsed": true
      },
      "outputs": [],
      "source": [
        "echo \"hi0\";\n",
        "/* Very classy */\n",
        "class MyClass {}\n",
        "// I am a comment\n",
        "echo \"hi1\";"
      ]
    },
    {
      "cell_type": "code",
      "execution_count": null,
      "metadata": {},
      "outputs": [],
      "source": [
        "echo \"hi2\";\n",
        "$x = 3;\n",
        "echo $x + 1;"
      ]
    },
    {
      "cell_type": "markdown",
      "metadata": {},
      "source": [
        "# Check it out\n",
        "\n",
        "I am a *markdown* **cell**"
      ]
    },
    {
      "cell_type": "code",
      "execution_count": null,
      "metadata": {},
      "outputs": [],
      "source": [
        "new MyClass();\n",
        "echo \"hi3\";"
      ]
    }
  ],
  "metadata": {
    "fileHeader": "",
    "fileUid": "ec019db1-69fc-45b0-91c3-d83757f2e16a",
    "isAdHoc": false,
    "kernelspec": {
      "display_name": "hack",
      "language": "hack",
      "name": "bento_kernel_hack"
    },
    "orig_nbformat": 4
  }
}
