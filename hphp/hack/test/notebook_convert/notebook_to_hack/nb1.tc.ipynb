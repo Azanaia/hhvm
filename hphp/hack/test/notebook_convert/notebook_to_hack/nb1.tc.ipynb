{
  "cells": [
    {
      "cell_type": "code",
      "execution_count": null,
      "metadata": {
        "collapsed": true,
        "output": {
          "id": 1247934846418027,
          "loadingStatus": "loaded"
        }
      },
      "outputs": [],
      "source": [
        "echo \"hi from cell 1\";\n",
        "/* Very classy */\n",
        "class MyClass {}\n",
        "// I am a comment\n",
        "echo \"end of cell 1\";"
      ]
    },
    {
      "cell_type": "code",
      "execution_count": null,
      "metadata": {},
      "outputs": [],
      "source": [
        "echo \"hi from cell 2\";\n",
        "$x = 3;\n",
        "echo $x + 1;\n",
        "echo \"end of cell 2\";"
      ]
    },
    {
      "cell_type": "markdown",
      "metadata": {},
      "source": [
        "## Markdown cell (cell 3)\n",
        "\n",
        "I am a *markdown* **cell**"
      ]
    },
    {
      "cell_type": "code",
      "execution_count": null,
      "metadata": {},
      "outputs": [],
      "source": [
        "echo \"this is cell 4\";"
      ]
    }
  ],
  "metadata": {
    "fileHeader": "",
    "fileUid": "ec019db1-69fc-45b0-91c3-d83757f2e16a",
    "isAdHoc": false,
    "kernelspec": {
      "display_name": "hack",
      "language": "hack",
      "name": "bento_kernel_hack"
    },
    "orig_nbformat": 4
  }
}
