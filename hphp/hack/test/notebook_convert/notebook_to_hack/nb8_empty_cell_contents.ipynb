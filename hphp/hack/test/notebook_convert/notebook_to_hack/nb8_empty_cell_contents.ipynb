{
  "cells": [
    {
      "cell_type": "code",
      "execution_count": null,
      "metadata": {},
      "outputs": [],
      "source": []
    }
  ],
  "metadata": {
    "fileHeader": "",
    "fileUid": "ec019db1-69fc-45b0-91c3-d83757f2e16a",
    "isAdHoc": false,
    "kernelspec": {
      "display_name": "hack",
      "language": "hack",
      "name": "bento_kernel_hack"
    },
    "orig_nbformat": 4
  },
  "nbformat": 4,
  "nbformat_minor": 2
}
